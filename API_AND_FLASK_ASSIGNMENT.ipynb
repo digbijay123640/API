{
  "nbformat": 4,
  "nbformat_minor": 0,
  "metadata": {
    "colab": {
      "provenance": []
    },
    "kernelspec": {
      "name": "python3",
      "display_name": "Python 3"
    },
    "language_info": {
      "name": "python"
    }
  },
  "cells": [
    {
      "cell_type": "markdown",
      "source": [
        "#**API AND FLASK THEORY**#⭐"
      ],
      "metadata": {
        "id": "TIRx93jqVAYQ"
      }
    },
    {
      "cell_type": "markdown",
      "source": [
        "###1.**What is a RESTful API4**?\n",
        ">A RESTful API (Representational State Transfer API) is a web service that follows REST (a set of architectural principles for building networked applications). RESTful APIs use HTTP methods to perform operations on resources, which are identified by URLs.\n",
        "\n",
        "###2.**Explain the concept of API specification**?\n",
        " >An API specification is a detailed document or standard that defines how an Application Programming Interface (API) should function. It outlines the rules, endpoints, data formats, authentication methods, and other important aspects needed for developers to interact with the API correctly.\n",
        "\n",
        "###3.**What is Flask, and why is it popular for building APIs**?\n",
        " >Flask is a lightweight and flexible web framework for Python, commonly used to build web applications and APIs. It is based on Werkzeug (for handling requests and responses) and Jinja2 (a template engine).\n",
        " >Flask is a micro-framework, meaning it has no built-in ORM, authentication, or other heavy features. Developers can add only the libraries they need.\n",
        "\n",
        "###4.**What is routing in Flask**?\n",
        ">Routing in Flask is the process of defining URLs (routes) that are associated with specific functions, allowing users to navigate a web application. When a user accesses a particular URL, Flask executes the corresponding function and returns the response.\n",
        "\n",
        "###5.**How do you create a simple Flask application**?\n",
        ">Install Flask → pip install flask\n",
        "\n",
        "-> Create app.py → Initialize Flask app\n",
        "\n",
        "-> Define Routes → Use @app.route()\n",
        "\n",
        "->Run the App → python app.py\n",
        "\n",
        "-> Access in Browser → http://127.0.0.1:5000/\n",
        "\n",
        "\n",
        "###6.**What are HTTP methods used in RESTful APIs**?\n",
        ">RESTful APIs use HTTP methods to perform operations on resources. The most commonly used HTTP methods are:\n",
        "\n",
        "GET - Retrieves data from a server.\n",
        "\n",
        "Example: GET /users (fetches a list of users)\n",
        "\n",
        "POST – Creates a new resource on the server.\n",
        "\n",
        "Example: POST /users (creates a new user)\n",
        "\n",
        "PUT – Updates an existing resource or creates it if it does not exist.\n",
        "\n",
        "Example: PUT /users/123 (updates user with ID 123)\n",
        "\n",
        "PATCH – Partially updates an existing resource.\n",
        "\n",
        "Example: PATCH /users/123 (updates some fields of user 123)\n",
        "\n",
        "DELETE – Removes a resource from the server.\n",
        "\n",
        "Example: DELETE /users/123 (deletes user 123)\n",
        "\n",
        "HEAD – Similar to GET but only retrieves headers, not the body.\n",
        "\n",
        "Example: HEAD /users (fetches metadata about users)\n",
        "\n",
        "OPTIONS – Returns the allowed HTTP methods for a resource.\n",
        "\n",
        "Example: OPTIONS /users (lists allowed methods: GET, POST, etc.)\n",
        "\n",
        "TRACE – Echoes the received request, used for debugging.\n",
        "\n",
        "Example: TRACE /users (returns what the server receives)\n",
        "\n",
        "CONNECT – Establishes a tunnel to a server, often used with proxies.\n",
        "\n",
        "Example: CONNECT example.com:443 (creates a secure tunnel)\n",
        "\n",
        "The main methods used in RESTful APIs are GET, POST, PUT, PATCH, and DELETE, as they align with CRUD (Create, Read, Update, Delete) operations.\n",
        "\n",
        "###7.**What is the purpose of the @app.route() decorator in Flask**?\n",
        ">n Flask, the @app.route() decorator is used to define a URL route that maps to a specific function. This means that when a user visits a particular URL in the web application, Flask will execute the associated function and return the response.\n",
        "\n",
        "Purpose of @app.route()\n",
        "Defines Routes: It binds a URL to a view function, making it accessible to users.\n",
        "\n",
        "Handles HTTP Requests: It can be configured to handle different HTTP methods (e.g., GET, POST).\n",
        "\n",
        "Simplifies Routing: Instead of manually mapping URLs to functions, @app.route() provides a clean and readable way to define routes.\n",
        "\n",
        "###8.**What is the difference between GET and POST HTTP methods**?\n",
        ">The GET and POST HTTP methods are both used for sending requests to a server, but they serve different purposes and behave differently:\n",
        "\n",
        "GET Method:\n",
        "Purpose: Used to request data from a server.\n",
        "\n",
        "Data Handling: Sends data as URL parameters (query strings) in the URL (e.g., example.com/page?name=John&age=25).\n",
        "\n",
        "Visibility: Parameters are visible in the URL, making it less secure for sensitive data.\n",
        "\n",
        "Caching: GET requests are often cached by browsers.\n",
        "\n",
        "Idempotency: Safe to repeat multiple times without changing the state of the server.\n",
        "\n",
        "Use Cases: Fetching web pages, search queries, API calls that retrieve data.\n",
        "\n",
        "POST Method:\n",
        "Purpose: Used to send data to a server to create or update resources.\n",
        "\n",
        "Data Handling: Sends data in the request body (hidden from URL).\n",
        "\n",
        "Visibility: Data is not visible in the URL, making it more secure for sensitive data like passwords.\n",
        "\n",
        "Caching: Typically not cached by browsers.\n",
        "\n",
        "Idempotency: Not idempotent—repeating the request may create multiple records or perform different actions.\n",
        "\n",
        "Use Cases: Submitting forms, creating new records in a database, uploading files.\n",
        "\n",
        "###9.**How do you handle errors in Flask APIs**?\n",
        ">Handling errors in Flask APIs is crucial for providing meaningful feedback to users and ensuring the application runs smoothly. Here are some best practices for error handling in Flask.\n",
        "\n",
        "###10.**How do you connect Flask to a SQL database**?\n",
        ">To connect Flask to a SQL database, you typically use SQLAlchemy, which is a popular ORM (Object-Relational Mapper) for Python. Below are the steps to set up the connection.\n",
        "\n",
        "###11.**What is the role of Flask-SQLAlchemy**?\n",
        ">Flask-SQLAlchemy is an extension for Flask that integrates SQLAlchemy, a powerful SQL toolkit and Object Relational Mapper (ORM) for Python, with Flask applications. It simplifies database interactions by allowing developers to work with databases using Python objects instead of raw SQL queries.\n",
        "\n",
        "###12.**What are Flask blueprints, and how are they useful**?\n",
        ">Flask Blueprints are a way to organize and modularize a Flask application. They allow you to define reusable components (routes, templates, and static files) that can be registered to a main Flask app.\n",
        "\n",
        "Modularity – Helps break a large application into smaller, manageable components.\n",
        "\n",
        "Code Organization – Keeps related routes and logic together, making the codebase cleaner.\n",
        "\n",
        "Reusability – Allows code to be reused across different applications.\n",
        "\n",
        "Team Collaboration – Developers can work on different Blueprints independently.\n",
        "\n",
        "###13.What is the purpose of Flask's request object?\n",
        ">Flask's request object is used to access incoming request data in a Flask application. It provides access to information about the client's request, such as:\n",
        "\n",
        "  Form Data – Data sent via HTML forms (request.form).\n",
        "\n",
        "  Query Parameters – Data sent in the URL (request.args).\n",
        "\n",
        "  JSON Data – JSON payload in a request body (request.json).\n",
        "\n",
        "  Headers – Request headers (request.headers).\n",
        "\n",
        "  Files – Uploaded files (request.files).\n",
        "\n",
        "  Cookies – Client cookies (request.cookies).\n",
        "\n",
        "  Request Method – HTTP method used (request.method).\n",
        "\n",
        "  URL and Path Information – The URL and request path (request.url, request.path)\n",
        "\n",
        "###14.**How do you create a RESTful API endpoint using Flask**?\n",
        ">Creating a RESTful API endpoint using Flask is straightforward. Follow these steps:\n",
        "1. Install Flask\n",
        "If you haven’t installed Flask, use:\n",
        "\n",
        "bash\n",
        "Copy\n",
        "Edit\n",
        "pip install flask\n",
        "2. Create the Flask App\n",
        "Create a Python file, e.g., app.py, and set up a basic Flask API.\n",
        "\n",
        "3. Define the RESTful Endpoint\n",
        "Here’s an example of a RESTful API with GET and POST methods:\n",
        "\n",
        "python\n",
        "Copy\n",
        "Edit\n",
        "from flask import Flask, request, jsonify\n",
        "\n",
        "app = Flask(__name__)\n",
        "\n",
        "# Sample data\n",
        "items = [\n",
        "    {\"id\": 1, \"name\": \"Item 1\"},\n",
        "    {\"id\": 2, \"name\": \"Item 2\"}\n",
        "]\n",
        "\n",
        "# GET endpoint to retrieve all items\n",
        "@app.route('/items', methods=['GET'])\n",
        "def get_items():\n",
        "    return jsonify(items)\n",
        "\n",
        "# GET endpoint to retrieve a single item by ID\n",
        "@app.route('/items/<int:item_id>', methods=['GET'])\n",
        "def get_item(item_id):\n",
        "    item = next((item for item in items if item[\"id\"] == item_id), None)\n",
        "    if item:\n",
        "        return jsonify(item)\n",
        "    return jsonify({\"error\": \"Item not found\"}), 404\n",
        "\n",
        "# POST endpoint to add a new item\n",
        "@app.route('/items', methods=['POST'])\n",
        "def add_item():\n",
        "    data = request.json\n",
        "    if not data or \"name\" not in data:\n",
        "        return jsonify({\"error\": \"Invalid data\"}), 400\n",
        "    new_item = {\"id\": len(items) + 1, \"name\": data[\"name\"]}\n",
        "    items.append(new_item)\n",
        "    return jsonify(new_item), 201\n",
        "\n",
        "# DELETE endpoint to remove an item\n",
        "@app.route('/items/<int:item_id>', methods=['DELETE'])\n",
        "def delete_item(item_id):\n",
        "    global items\n",
        "    items = [item for item in items if item[\"id\"] != item_id]\n",
        "    return jsonify({\"message\": \"Item deleted\"}), 200\n",
        "\n",
        "if __name__ == '__main__':\n",
        "    app.run(debug=True)\n",
        "\n",
        "###15.**What is the purpose of Flask's jsonify() function**?\n",
        ">Flask's jsonify() function simplifies creating JSON responses by automatically serializing Python objects (like dictionaries) into JSON format and setting the appropriate Content-Type header to application/json.\n",
        "\n",
        "Here's a more detailed explanation:\n",
        "\n",
        "Purpose:\n",
        "\n",
        "Serialization:\n",
        "Content-Type Header:\n",
        "Simplified JSON Responses:\n",
        "Importantly, jsonify() automatically sets the Content-Type header of the response to application/json, which is crucial for informing the client that the response is in JSON format.\n",
        "\n",
        "It uses the json.dumps() function under the hood to convert the Python object into a JSON string.\n",
        "\n",
        "The primary function of jsonify() is to take a Python object (usually a dictionary) and return a Flask Response object that contains the object serialized as JSON.\n",
        "\n",
        "By handling the serialization and header setting, jsonify() streamlines the process of creating JSON responses in Flask, making it easier to return data in a format suitable for web APIs and other applications.\n",
        "###16.**Explain Flask’s url_for() function**?\n",
        ">The url_for() function in Flask generates a URL to a specific endpoint (view function) based on its name and any arguments provided. It abstracts away the need to hardcode URLs, making applications more maintainable and robust. The basic syntax is url_for('endpoint_name', **values). endpoint_name is the name of the view function (or endpoint name if explicitly defined). **values are keyword arguments representing any dynamic parts of the URL.\n",
        "\n",
        "###17.**M How does Flask handle static files (CSS, JavaScript, etc.)**?\n",
        "1Flask serves static files from the static/ directory.\n",
        "2.Use url_for('static', filename='path/to/file') in HTML.\n",
        "3.Static files can be accessed directly via /static/ filename.\n",
        "4.For production, use a dedicated web server for efficiency.\n",
        "\n",
        "###18.**What is an API specification, and how does it help in building a Flask API**?\n",
        ">An API specification is a formal document that outlines the structure, functionality, and expected behavior of an API, essentially acting as a blueprint for how developers can interact with and use the API.\n",
        "\n",
        "##1.Feature Benefit -> in Flask API Development\n",
        "##2.Clear Documentation Ensures developers understand the API structure.\n",
        "##3.Standardization -> Keeps API design consistent & scalable.\n",
        "##4.Error Handling -> Defines how errors (404, 500) should be returned.\n",
        "##5API Testing & Validation -> Allows tools like Swagger to auto-generate tests.\n",
        "##6.Easy Integration -> Helps frontend & third-party developers use the API correctly.\n",
        "\n",
        "###19.**What are HTTP status codes, and why are they important in a Flask API**?\n",
        ">HTTP status codes are standardized 3-digit numbers that indicate the result of an API request. They help the client (browser, frontend app, or another API) understand if the request was successful, failed, or needs additional actions.\n",
        "##1.Helps Clients Handle Responses Correctly (e.g., retry on 503, show error on 400)\n",
        "##2.Improves Debugging & Logging (e.g., 500 errors indicate server-side issues)\n",
        "##3.Enhances API Reliability & User Experience\n",
        "\n",
        "##20.**How do you handle POST requests in Flask**?\n",
        "##1.Validate input data before processing.\n",
        "##2.Return appropriate HTTP status codes (201 Created, 400 Bad Request, 500 Internal Server Error)\n",
        "##3.Use request.get_json() for JSON data\n",
        "##4.Secure API endpoints (e.g., authentication, rate limiting)\n",
        "\n",
        "##21.**How would you secure a Flask API**?\n",
        "##1.Use JWT or OAuth for Authentication\n",
        "##2.Force HTTPS for Secure Communication\n",
        "##3.Sanitize Inputs & Prevent SQL Injection\n",
        "##4.Enable Rate Limiting to Prevent Abuse\n",
        "##5.Set Secure API Headers with Flask-Talisman\n",
        "##6.Monitor API Logs for Suspicious Activity\n",
        "##7.Enable CSRF Protection for Form-Based Requests\n",
        "\n",
        "###22.**What is the significance of the Flask-RESTful extension**?\n",
        "The Flask-RESTful extension significantly simplifies and streamlines the process of building RESTful APIs in Python using Flask, offering a structured approach with features like resource classes and automatic mapping of HTTP methods, making development faster and more maintainable.\n",
        "\n",
        "Here's a more detailed explanation of its significance:\n",
        "\n",
        "##1.Simplified REST API Development:\n",
        "##2.Resource Class:\n",
        "##3.Argument Parsing:\n",
        "##4.Integration with Flask:\n",
        "##5.Object-Oriented Approach:\n",
        "##6.Flask-RESTful is built as an extension for Flask, meaning it leverages the features and capabilities of Flask while adding specific functionality for REST API development.\n",
        "\n",
        "It has built-in support for request data validation and parsing, similar to the argparse library, making it easier to handle incoming data.\n",
        "\n",
        "It introduces a Resource class that allows developers to define HTTP methods (GET, POST, PUT, DELETE, etc.) as class methods, which simplifies the organization and management of API endpoints. 3.Automatic Mapping: Flask-RESTful automatically maps HTTP methods to the corresponding class methods, reducing boilerplate code and making the development process faster. 4.Data Marshalling: It provides features for data marshalling, allowing developers to control the structure and format of data returned in API responses.\n",
        "\n",
        "Flask-RESTful is designed to make building RESTful APIs easier and more efficient, encouraging best practices and a resource-oriented approach.\n",
        "\n",
        "It encourages a clean object-oriented code that is highly reusable. Scalable and Maintainable APIs: It helps developers build APIs that are both scalable and maintainable.\n",
        "\n",
        "###23.**What is the role of Flask’s session object**?\n",
        "In Flask, the session object allows you to store user-specific data across multiple requests, essentially acting as a way to maintain state between interactions with a web application. It's implemented using cryptographically signed cookies, ensuring data persistence and security.\n",
        "\n",
        "##1.Session Data is Encrypted: Prevents tampering using Flask’s SECRET_KEY.\n",
        "##2.Persists Across Requests: Unlike request, session data remains available for multiple requests.\n",
        "##3.Supports User Authentication: Used in login systems to track logged-in users.\n",
        "##4.Client-Side Storage: Stores session data in cookies rather than the server.\n",
        "\n",
        "\n",
        "\n",
        "\n",
        "\n",
        "\n",
        "\n",
        "\n",
        "\n",
        "\n",
        "\n",
        "\n",
        "\n",
        "\n",
        "\n",
        "\n",
        "\n",
        "\n",
        "\n",
        "\n",
        "\n",
        "\n",
        "\n",
        "\n",
        "\n",
        "\n",
        "\n",
        "\n",
        "\n",
        "\n",
        "\n",
        "\n",
        "\n",
        "\n"
      ],
      "metadata": {
        "id": "FGBaUML0Vg9o"
      }
    },
    {
      "cell_type": "markdown",
      "source": [
        "#**Pratical Questions**⭐"
      ],
      "metadata": {
        "id": "fSCg5J-5Y5az"
      }
    },
    {
      "cell_type": "markdown",
      "source": [
        "###1.How do you create a basic Flask application?"
      ],
      "metadata": {
        "id": "D4dm0AJtZAoN"
      }
    },
    {
      "cell_type": "code",
      "source": [
        "from flask import Flask\n",
        "\n",
        "app = Flask(__name__)  # Initialize the Flask application\n",
        "\n",
        "@app.route('/')  # Define the home route\n",
        "def home():\n",
        "    return \"Hello, Flask!\"  # Response displayed in the browser\n",
        "\n",
        "if __name__ == '__main__':\n",
        "    app.run(debug=True)  # Run the app in debug mode\n"
      ],
      "metadata": {
        "colab": {
          "base_uri": "https://localhost:8080/"
        },
        "id": "KfiT4gW_ZHMH",
        "outputId": "8d60a3d1-0b85-4d5e-f1f9-565af6514f93"
      },
      "execution_count": null,
      "outputs": [
        {
          "metadata": {
            "tags": null
          },
          "name": "stdout",
          "output_type": "stream",
          "text": [
            " * Serving Flask app '__main__'\n",
            " * Debug mode: on\n"
          ]
        },
        {
          "metadata": {
            "tags": null
          },
          "name": "stderr",
          "output_type": "stream",
          "text": [
            "INFO:werkzeug:\u001b[31m\u001b[1mWARNING: This is a development server. Do not use it in a production deployment. Use a production WSGI server instead.\u001b[0m\n",
            " * Running on http://127.0.0.1:5000\n",
            "INFO:werkzeug:\u001b[33mPress CTRL+C to quit\u001b[0m\n",
            "INFO:werkzeug: * Restarting with stat\n"
          ]
        }
      ]
    },
    {
      "cell_type": "markdown",
      "source": [
        "###2.How do you serve static files like images or CSS in Flask?"
      ],
      "metadata": {
        "id": "3dsdPDT_ZQt4"
      }
    },
    {
      "cell_type": "code",
      "source": [
        "from flask import Flask, render_template\n",
        "\n",
        "app = Flask(__name__)\n",
        "\n",
        "@app.route('/')\n",
        "def home():\n",
        "    return render_template('index.html')  # Renders HTML page\n",
        "\n",
        "if __name__ == '__main__':\n",
        "    app.run(debug=True)\n"
      ],
      "metadata": {
        "id": "S2dyfelOZVpG"
      },
      "execution_count": null,
      "outputs": []
    },
    {
      "cell_type": "markdown",
      "source": [
        "###3.How do you define different routes with different HTTP methods in Flask?"
      ],
      "metadata": {
        "id": "qLvUEcSrZoBq"
      }
    },
    {
      "cell_type": "code",
      "source": [
        "@app.route('/user', methods=['GET', 'POST', 'PUT', 'DELETE'])\n",
        "def user():\n",
        "    if request.method == 'GET':\n",
        "        return jsonify({\"message\": \"GET request received\"}), 200\n",
        "    elif request.method == 'POST':\n",
        "        return jsonify({\"message\": \"POST request received\"}), 201\n",
        "    elif request.method == 'PUT':\n",
        "        return jsonify({\"message\": \"PUT request received\"}), 200\n",
        "    elif request.method == 'DELETE':\n",
        "        return jsonify({\"message\": \"DELETE request received\"}), 200"
      ],
      "metadata": {
        "id": "xHQEXPi4ZuTZ"
      },
      "execution_count": null,
      "outputs": []
    },
    {
      "cell_type": "markdown",
      "source": [
        "###4. How do you render HTML templates in Flask?"
      ],
      "metadata": {
        "id": "8R8Kt3yqZz00"
      }
    },
    {
      "cell_type": "code",
      "source": [
        "from flask import Flask, render_template\n",
        "\n",
        "app = Flask(__name__)\n",
        "\n",
        "@app.route('/')\n",
        "def home():\n",
        "    return render_template('index.html')  # Renders the index.html page\n",
        "\n",
        "if __name__ == '__main__':\n",
        "    app.run(debug=True)"
      ],
      "metadata": {
        "id": "SqNUZ5LWZ5vn"
      },
      "execution_count": null,
      "outputs": []
    },
    {
      "cell_type": "markdown",
      "source": [
        "###5. How can you generate URLs for routes in Flask using url_for?"
      ],
      "metadata": {
        "id": "hhxP5xloZ9LN"
      }
    },
    {
      "cell_type": "code",
      "source": [
        "from flask import Flask, url_for\n",
        "\n",
        "app = Flask(__name__)\n",
        "\n",
        "@app.route('/')\n",
        "def home():\n",
        "    return \"Welcome to Flask!\"\n",
        "\n",
        "@app.route('/about')\n",
        "def about():\n",
        "    return \"This is the About Page.\"\n",
        "\n",
        "if __name__ == '__main__':\n",
        "    with app.test_request_context():\n",
        "        print(url_for('home'))  # Outputs: /\n",
        "        print(url_for('about')) # Outputs: /about\n",
        "\n",
        "    app.run(debug=True)"
      ],
      "metadata": {
        "id": "wiTbMI9-aGKh"
      },
      "execution_count": null,
      "outputs": []
    },
    {
      "cell_type": "markdown",
      "source": [
        "###6.How do you handle forms in Flask?"
      ],
      "metadata": {
        "id": "PqcJrsMAaPXR"
      }
    },
    {
      "cell_type": "code",
      "source": [
        "from flask import Flask, render_template, request\n",
        "\n",
        "app = Flask(__name__)\n",
        "\n",
        "@app.route('/form')\n",
        "def form():\n",
        "    return render_template('form.html')\n",
        "\n",
        "@app.route('/login', methods=['POST'])\n",
        "def login():\n",
        "    username = request.form['username']\n",
        "    password = request.form['password']\n",
        "    return f\"Welcome, {username}!\"\n",
        "\n",
        "if __name__ == '__main__':\n",
        "    app.run(debug=True)"
      ],
      "metadata": {
        "id": "XKgct_6WaUsn"
      },
      "execution_count": null,
      "outputs": []
    },
    {
      "cell_type": "markdown",
      "source": [
        "7. How can you validate form data in Flask?"
      ],
      "metadata": {
        "id": "sXYRnaHBaZVo"
      }
    },
    {
      "cell_type": "code",
      "source": [
        "from flask_wtf import FlaskForm\n",
        "from wtforms import StringField, PasswordField, SubmitField\n",
        "from wtforms.validators import DataRequired, Length\n",
        "\n",
        "class LoginForm(FlaskForm):\n",
        "    username = StringField('Username', validators=[DataRequired()])\n",
        "    password = PasswordField('Password', validators=[DataRequired(), Length(min=6)])\n",
        "    submit = SubmitField('Login')"
      ],
      "metadata": {
        "id": "pSkk9QM5acxb"
      },
      "execution_count": null,
      "outputs": []
    },
    {
      "cell_type": "markdown",
      "source": [
        "###8.M How do you manage sessions in Flask?"
      ],
      "metadata": {
        "id": "wN5NQLS3agK_"
      }
    },
    {
      "cell_type": "code",
      "source": [
        "from flask import Flask, session, redirect, url_for, request\n",
        "\n",
        "app = Flask(__name__)\n",
        "app.config['SECRET_KEY'] = 'mysecretkey'  # Required for security\n",
        "\n",
        "@app.route('/')\n",
        "def home():\n",
        "    username = session.get('username', 'Guest')\n",
        "    return f\"Welcome, {username}!\"\n",
        "\n",
        "@app.route('/login', methods=['POST'])\n",
        "def login():\n",
        "    session['username'] = request.form['username']\n",
        "    return redirect(url_for('home'))\n",
        "\n",
        "@app.route('/logout')\n",
        "def logout():\n",
        "    session.pop('username', None)  # Remove session data\n",
        "    return redirect(url_for('home'))\n",
        "\n",
        "if __name__ == '__main__':\n",
        "    app.run(debug=True)"
      ],
      "metadata": {
        "id": "yr3Ak5fzalcn"
      },
      "execution_count": null,
      "outputs": []
    },
    {
      "cell_type": "markdown",
      "source": [
        "###9. How do you redirect to a different route in Flask?"
      ],
      "metadata": {
        "id": "HZPvwp_iap1d"
      }
    },
    {
      "cell_type": "code",
      "source": [
        "from flask import Flask, redirect, url_for\n",
        "\n",
        "app = Flask(__name__)\n",
        "\n",
        "@app.route('/')\n",
        "def home():\n",
        "    return \"Welcome to the Home Page!\"\n",
        "\n",
        "@app.route('/login')\n",
        "def login():\n",
        "    return redirect(url_for('home'))  # Redirect to the home route\n",
        "\n",
        "if __name__ == '__main__':\n",
        "    app.run(debug=True)"
      ],
      "metadata": {
        "id": "9IzsFokJat1S"
      },
      "execution_count": null,
      "outputs": []
    },
    {
      "cell_type": "markdown",
      "source": [
        "###10.How do you handle errors in Flask (e.g., 404)?"
      ],
      "metadata": {
        "id": "Jflh5ZROa2CK"
      }
    },
    {
      "cell_type": "code",
      "source": [
        "from flask import Flask, render_template\n",
        "\n",
        "app = Flask(__name__)\n",
        "\n",
        "@app.errorhandler(404)\n",
        "def page_not_found(error):\n"
      ],
      "metadata": {
        "id": "0SCaZ62Fa6Ke"
      },
      "execution_count": null,
      "outputs": []
    },
    {
      "cell_type": "markdown",
      "source": [
        "###11. How do you structure a Flask app using Blueprints?"
      ],
      "metadata": {
        "id": "500nUQ8fa9lS"
      }
    },
    {
      "cell_type": "code",
      "source": [
        "from flask import Blueprint\n",
        "\n",
        "auth_bp = Blueprint('auth', __name__)  # Create a Blueprint\n",
        "\n",
        "@auth_bp.route('/login')\n",
        "def login():\n",
        "    return \"This is the login page.\"\n",
        "\n",
        "@auth_bp.route('/register')\n",
        "def register():\n",
        "    return \"This is the register page.\"\n"
      ],
      "metadata": {
        "id": "iACYJS6jbD8i"
      },
      "execution_count": null,
      "outputs": []
    },
    {
      "cell_type": "markdown",
      "source": [
        "###12. How do you define a custom Jinja filter in Flask?"
      ],
      "metadata": {
        "id": "xrqv-0lHbHQX"
      }
    },
    {
      "cell_type": "code",
      "source": [
        "from flask import Flask, render_template\n",
        "\n",
        "app = Flask(__name__)\n",
        "\n",
        "# Define a custom filter\n",
        "def reverse_string(s):\n",
        "    return s[::-1]\n",
        "\n",
        "# Register the filter with Flask\n",
        "app.jinja_env.filters['reverse'] = reverse_string\n",
        "\n",
        "@app.route('/')\n",
        "def home():\n",
        "    return render_template('index.html', name=\"Flask\")\n",
        "\n",
        "if __name__ == '__main__':\n",
        "    app.run(debug=True)"
      ],
      "metadata": {
        "id": "xajtYd3ibMCw"
      },
      "execution_count": null,
      "outputs": []
    },
    {
      "cell_type": "markdown",
      "source": [
        "###13. How can you redirect with query parameters in Flask?"
      ],
      "metadata": {
        "id": "mo2xWlSlbPb6"
      }
    },
    {
      "cell_type": "code",
      "source": [
        "from flask import Flask, redirect, url_for\n",
        "\n",
        "app = Flask(__name__)\n",
        "\n",
        "@app.route('/login')\n",
        "def login():\n",
        "    return redirect(url_for('dashboard', username='JohnDoe'))  # Redirect with query params\n",
        "\n",
        "@app.route('/dashboard')\n",
        "def dashboard():\n",
        "    return \"Welcome to the dashboard!\"\n",
        "\n",
        "if __name__ == '__main__':\n",
        "    app.run(debug=True)"
      ],
      "metadata": {
        "id": "mqVuq4d3bUb8"
      },
      "execution_count": null,
      "outputs": []
    },
    {
      "cell_type": "markdown",
      "source": [
        "14.How do you return JSON responses in Flask?"
      ],
      "metadata": {
        "id": "1wIerZVgbYPp"
      }
    },
    {
      "cell_type": "code",
      "source": [
        "@app.route('/api/create', methods=['POST'])\n",
        "def create():\n",
        "    response = {\"message\": \"Resource created\", \"status\": \"success\"}\n",
        "    return jsonify(response), 201\n"
      ],
      "metadata": {
        "id": "Io6knsYNbc7l"
      },
      "execution_count": null,
      "outputs": []
    },
    {
      "cell_type": "markdown",
      "source": [
        "15.How do you capture URL parameters in Flask?"
      ],
      "metadata": {
        "id": "ikFJpqNlbgQR"
      }
    },
    {
      "cell_type": "code",
      "source": [
        "from flask import Flask\n",
        "\n",
        "app = Flask(__name__)\n",
        "\n",
        "@app.route('/user/')\n",
        "def show_user(username):\n",
        "    return f\"Hello, {username}!\"\n",
        "\n",
        "if __name__ == '__main__':\n",
        "    app.run(debug=True)"
      ],
      "metadata": {
        "id": "swU0H6yubj9B"
      },
      "execution_count": null,
      "outputs": []
    }
  ]
}